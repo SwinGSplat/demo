{
 "cells": [
  {
   "cell_type": "code",
   "execution_count": 11,
   "metadata": {},
   "outputs": [],
   "source": [
    "import struct\n",
    "import time\n",
    "import json\n",
    "import os\n",
    "import math\n",
    "\n",
    "SHS_DEGREE = 1\n",
    "ENDIAN = \"!\"\n",
    "\n",
    "READ_FILE = \"a02.dat\"\n",
    "\n",
    "READ_FORMAT = {\n",
    "    'start_frame': 'I',\n",
    "    'end_frame': 'I',\n",
    "    'xyz': 'fff',\n",
    "    'f_dc': 'fff',\n",
    "    'f_rest': 'fff' * ((SHS_DEGREE + 1) ** 2 -1),\n",
    "    'scaling': 'fff',\n",
    "    'rotation': 'ffff',\n",
    "    'opacity': 'f'\n",
    "}\n",
    "\n",
    "WRITE_FORMAT = {\n",
    "    'start_frame': 'H',\n",
    "    'end_frame': 'H',\n",
    "    'xyz': 'fff',\n",
    "    'color': 'BBB',\n",
    "    'opacity': 'B',\n",
    "    'scaling': 'fff',\n",
    "    'rotation': 'BBBB'\n",
    "}\n"
   ]
  },
  {
   "cell_type": "code",
   "execution_count": 12,
   "metadata": {},
   "outputs": [],
   "source": [
    "\n",
    "def stream_dump(params, filename, format):\n",
    "    '''\n",
    "    name: fromF, toF, xyz, feature, s,   r,    o\n",
    "    data: I    , I,   fff, fffx4,   fff, ffff, f\n",
    "    '''\n",
    "    FORMAT = format\n",
    "    N = len(params)\n",
    "\n",
    "    fmt = f\"{ENDIAN}{''.join(FORMAT.values())}\"\n",
    "    print(f\"Format: {fmt}, total bytes: {struct.calcsize(fmt)}\")\n",
    "\n",
    "    dir = os.path.dirname(filename)\n",
    "    with open(os.path.join(dir, 'format.json'), 'w') as f:\n",
    "        json.dump(FORMAT, f, indent=4)\n",
    "\n",
    "    time_start = time.time()\n",
    "    values = []\n",
    "    for v in params:\n",
    "        values.append(struct.pack(fmt, *v))\n",
    "    with open(filename, 'ab') as f:\n",
    "        f.writelines(values)\n",
    "    time_end = time.time()\n",
    "\n",
    "    print(f\"Dumped {N} gaussians in {time_end - time_start} seconds\")\n",
    "\n",
    "def stream_load(filename, format):\n",
    "    FORMAT = format\n",
    "    fmt = f\"{ENDIAN}{''.join(FORMAT.values())}\"\n",
    "    print(f\"Format: {fmt} total bytes: {struct.calcsize(fmt)}\")\n",
    "    with open(filename, 'rb') as f:\n",
    "        data = f.read()\n",
    "    N = len(data) // struct.calcsize(fmt)\n",
    "    print(f\"Loading {N} gaussians\")\n",
    "    unpacked = []\n",
    "    for i in range(N):\n",
    "        unpacked.append(\n",
    "            struct.unpack(fmt,\n",
    "                          data[i * struct.calcsize(fmt): (i+1) * struct.calcsize(fmt)]))\n",
    "    return unpacked"
   ]
  },
  {
   "cell_type": "code",
   "execution_count": 13,
   "metadata": {},
   "outputs": [],
   "source": [
    "def rgba(f_dc, opacity):\n",
    "    clamp = lambda x: min(255, max(0, x))\n",
    "    SH_C0 = 0.28209479177387814\n",
    "    color = [0, 0, 0]\n",
    "    color[0] = clamp(int((0.5 + SH_C0 * f_dc[0]) * 255))\n",
    "    color[1] = clamp(int((0.5 + SH_C0 * f_dc[1]) * 255))\n",
    "    color[2] = clamp(int((0.5 + SH_C0 * f_dc[2]) * 255))\n",
    "    alpha = int((1 / (1 + math.exp(-opacity))) * 255)\n",
    "    return (*color, alpha)\n",
    "def rot(rotation):\n",
    "    qlen = math.sqrt(\n",
    "            rotation[0] ** 2 +\n",
    "            rotation[1] ** 2 +\n",
    "            rotation[2] ** 2 +\n",
    "            rotation[3] ** 2,\n",
    "        )\n",
    "    rot = [0, 0, 0, 0]\n",
    "    rot[0] = int((rotation[0] / qlen) * 128 + 128)\n",
    "    rot[1] = int((rotation[1] / qlen) * 128 + 128)\n",
    "    rot[2] = int((rotation[2] / qlen) * 128 + 128)\n",
    "    rot[3] = int((rotation[3] / qlen) * 128 + 128)\n",
    "    return rot\n",
    "\n",
    "def scale(scaling):\n",
    "    scales = [0, 0, 0]\n",
    "    scales[0] = math.exp(scaling[0])\n",
    "    scales[1] = math.exp(scaling[1])\n",
    "    scales[2] = math.exp(scaling[2])\n",
    "    return scales"
   ]
  },
  {
   "cell_type": "code",
   "execution_count": 14,
   "metadata": {},
   "outputs": [
    {
     "name": "stdout",
     "output_type": "stream",
     "text": [
      "Format: !IIfffffffffffffffffffffff total bytes: 100\n",
      "Loading 6080000 gaussians\n",
      "(0, 4, -0.13808496296405792, 1.132751703262329, -0.039287224411964417, -0.7728375196456909, -1.2257803678512573, -1.305043339729309, -0.3303195834159851, -0.25393062829971313, -0.25615015625953674, 0.04359877109527588, 0.040584664791822433, 0.057698022574186325, 0.2423786222934723, 0.11468120664358139, 0.12260064482688904, -5.731492042541504, -3.1873228549957275, -5.726689338684082, 1.401716709136963, -0.48682981729507446, 0.22983399033546448, -0.17597945034503937, -2.947310447692871)\n"
     ]
    }
   ],
   "source": [
    "\n",
    "ret = stream_load(READ_FILE, READ_FORMAT)\n",
    "print(ret[0])\n",
    "\n",
    "shrank = []\n",
    "for r in ret:\n",
    "    start_frame = r[0]\n",
    "    end_frame = r[1]\n",
    "    xyz = r[2:5]\n",
    "    f_dc = r[5:8]\n",
    "    shs_length = 3 * ((SHS_DEGREE + 1) ** 2 - 1)\n",
    "    f_rest = r[8:8 + shs_length]\n",
    "    scaling = r[8 + shs_length: 11 + shs_length]\n",
    "    rotation = r[11 + shs_length: 15 + shs_length]\n",
    "    opacity = r[-1]\n",
    "    shrank.append(\n",
    "        (\n",
    "            start_frame,\n",
    "            end_frame,\n",
    "            *xyz,\n",
    "            *(rgba(f_dc, opacity)),\n",
    "            *(scale(scaling)),\n",
    "            *(rot(rotation)),\n",
    "        )\n",
    "    )\n",
    "\n"
   ]
  },
  {
   "cell_type": "code",
   "execution_count": 15,
   "metadata": {},
   "outputs": [
    {
     "name": "stdout",
     "output_type": "stream",
     "text": [
      "Format: !HHfffBBBBfffBBBB, total bytes: 36\n",
      "Dumped 6080000 gaussians in 5.3538172245025635 seconds\n"
     ]
    }
   ],
   "source": [
    "\n",
    "\n",
    "new_name = f\"{READ_FILE[:-4]}_36B.dat\"\n",
    "stream_dump(shrank, new_name, WRITE_FORMAT)\n",
    "# test = stream_load(new_name, WRITE_FORMAT)\n",
    "# print(test[0])"
   ]
  }
 ],
 "metadata": {
  "kernelspec": {
   "display_name": "Python 3",
   "language": "python",
   "name": "python3"
  },
  "language_info": {
   "codemirror_mode": {
    "name": "ipython",
    "version": 3
   },
   "file_extension": ".py",
   "mimetype": "text/x-python",
   "name": "python",
   "nbconvert_exporter": "python",
   "pygments_lexer": "ipython3",
   "version": "3.8.18"
  }
 },
 "nbformat": 4,
 "nbformat_minor": 2
}
